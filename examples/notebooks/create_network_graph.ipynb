{
 "cells": [
  {
   "cell_type": "code",
   "execution_count": null,
   "id": "196cfd06",
   "metadata": {
    "lines_to_next_cell": 2
   },
   "outputs": [],
   "source": [
    "%env CONSOLE_WIDTH=140\n",
    "\n",
    "from kiara.interfaces.python_api.workflow import Workflow\n",
    "from kiara.utils.jupyter import graph_to_image\n",
    "from kiara.utils.cli import terminal_print_model"
   ]
  },
  {
   "cell_type": "markdown",
   "id": "f8b558e7",
   "metadata": {},
   "source": [
    "# Creating the workflow object <a class=\"anchor\" id=\"create_workflow_obj\"></a>\n",
    "\n",
    "As the first step we create a [`Workflow`](https://dharpa.org/kiara/latest/reference/kiara/interfaces/python_api/workflow/) object, which is a convenience class that manages workflow state, internal consistency and history for us:"
   ]
  },
  {
   "cell_type": "code",
   "execution_count": null,
   "id": "62063ef7",
   "metadata": {},
   "outputs": [],
   "source": [
    "doc = \"\"\"Onboard network data\"\"\"\n",
    "workflow = Workflow.create(\"create_network_graph\", doc=doc, replace_existing_alias=True)"
   ]
  },
  {
   "cell_type": "markdown",
   "id": "66712716",
   "metadata": {},
   "source": [
    "# Assembling the workflow <a class=\"anchor\" id=\"assembly\"></a>\n",
    "\n",
    "The first step in the creation of our workflow is to create the individual steps from the available *kiara* modules.\n",
    "\n",
    "A list of available modules and their aliases can be found here: TODO\n",
    "\n",
    "## Creating the steps of the workflow <a class=\"anchor\" id=\"creating_steps\"></a>"
   ]
  },
  {
   "cell_type": "code",
   "execution_count": null,
   "id": "f95aa474",
   "metadata": {
    "lines_to_next_cell": 0
   },
   "outputs": [],
   "source": [
    "# Creating step: import_edges_file\n",
    "workflow.add_step(operation=\"import.file\", step_id=\"import_edges_file\")"
   ]
  },
  {
   "cell_type": "code",
   "execution_count": null,
   "id": "c87eae33",
   "metadata": {
    "lines_to_next_cell": 0
   },
   "outputs": [],
   "source": [
    "# Creating step: import_nodes_file\n",
    "workflow.add_step(operation=\"import.file\", step_id=\"import_nodes_file\")"
   ]
  },
  {
   "cell_type": "code",
   "execution_count": null,
   "id": "f4229cff",
   "metadata": {
    "lines_to_next_cell": 0
   },
   "outputs": [],
   "source": [
    "# Creating step: create_edges_table\n",
    "step_create_edges_table_config = {'constants': {}, 'defaults': {}, 'source_type': 'csv_file', 'target_type': 'table', 'ignore_errors': False}\n",
    "workflow.add_step(\n",
    "    operation=\"create.table\",\n",
    "    module_config=step_create_edges_table_config,\n",
    "    step_id=\"create_edges_table\")"
   ]
  },
  {
   "cell_type": "code",
   "execution_count": null,
   "id": "018ffe09",
   "metadata": {
    "lines_to_next_cell": 0
   },
   "outputs": [],
   "source": [
    "# Connecting input(s) of step 'create_edges_table'\n",
    "workflow.connect_fields(\"create_edges_table.csv_file\", \"import_edges_file.file\")"
   ]
  },
  {
   "cell_type": "code",
   "execution_count": null,
   "id": "77f09478",
   "metadata": {
    "lines_to_next_cell": 0
   },
   "outputs": [],
   "source": [
    "# Creating step: create_nodes_table\n",
    "step_create_nodes_table_config = {'constants': {}, 'defaults': {}, 'source_type': 'csv_file', 'target_type': 'table', 'ignore_errors': False}\n",
    "workflow.add_step(\n",
    "    operation=\"create.table\",\n",
    "    module_config=step_create_nodes_table_config,\n",
    "    step_id=\"create_nodes_table\")"
   ]
  },
  {
   "cell_type": "code",
   "execution_count": null,
   "id": "8a468b18",
   "metadata": {
    "lines_to_next_cell": 0
   },
   "outputs": [],
   "source": [
    "# Connecting input(s) of step 'create_nodes_table'\n",
    "workflow.connect_fields(\"create_nodes_table.csv_file\", \"import_nodes_file.file\")"
   ]
  },
  {
   "cell_type": "code",
   "execution_count": null,
   "id": "efe4ed86",
   "metadata": {
    "lines_to_next_cell": 0
   },
   "outputs": [],
   "source": [
    "# Creating step: assemble_network_data\n",
    "workflow.add_step(operation=\"create.network_data.from.tables\", step_id=\"assemble_network_data\")"
   ]
  },
  {
   "cell_type": "code",
   "execution_count": null,
   "id": "d360406a",
   "metadata": {
    "lines_to_next_cell": 0
   },
   "outputs": [],
   "source": [
    "# Connecting input(s) of step 'assemble_network_data'\n",
    "workflow.connect_fields(\"assemble_network_data.edges\", \"create_edges_table.table\")\n",
    "workflow.connect_fields(\"assemble_network_data.nodes\", \"create_nodes_table.table\")"
   ]
  },
  {
   "cell_type": "markdown",
   "id": "e3cd10af",
   "metadata": {
    "lines_to_next_cell": 0
   },
   "source": [
    "## Setting workflow input/output names (optional)\n",
    "\n",
    "To make our workflow nicer to use, we can set aliases for its inputs and outputs."
   ]
  },
  {
   "cell_type": "code",
   "execution_count": null,
   "id": "47bf3215",
   "metadata": {
    "lines_to_next_cell": 0
   },
   "outputs": [],
   "source": [
    "workflow.set_input_alias(input_field=\"import_edges_file.path\", alias=\"edges_file\")\n",
    "workflow.set_input_alias(input_field=\"import_nodes_file.path\", alias=\"nodes_file\")\n",
    "workflow.set_input_alias(input_field=\"assemble_network_data.source_column_name\", alias=\"source_column_name\")\n",
    "workflow.set_input_alias(input_field=\"assemble_network_data.target_column_name\", alias=\"target_column_name\")\n",
    "workflow.set_input_alias(input_field=\"assemble_network_data.edges_column_map\", alias=\"edges_column_map\")\n",
    "workflow.set_input_alias(input_field=\"assemble_network_data.id_column_name\", alias=\"id_column_name\")\n",
    "workflow.set_input_alias(input_field=\"assemble_network_data.label_column_name\", alias=\"label_column_name\")\n",
    "workflow.set_input_alias(input_field=\"assemble_network_data.nodes_column_map\", alias=\"nodes_column_map\")\n",
    "\n",
    "\n",
    "workflow.set_output_alias(output_field=\"assemble_network_data.network_data\", alias=\"network_data\")"
   ]
  },
  {
   "cell_type": "markdown",
   "id": "32d60769",
   "metadata": {},
   "source": [
    "# Workflow information <a class=\"anchor\" id=\"pipeline_info\"></a>\n",
    "\n",
    "After our workflow is wired up, we look can look at its structure, and other properties."
   ]
  },
  {
   "cell_type": "markdown",
   "id": "010b1c52",
   "metadata": {},
   "source": [
    "\n",
    "## Workflow status\n",
    "\n",
    "A workflow consists of a series of 'states', the most relevant is always the most recent one. We can investigate\n",
    "that latest states details like so:"
   ]
  },
  {
   "cell_type": "code",
   "execution_count": null,
   "id": "f8d193a7",
   "metadata": {},
   "outputs": [],
   "source": [
    "workflow.current_state"
   ]
  },
  {
   "cell_type": "markdown",
   "id": "81c1a357",
   "metadata": {},
   "source": [
    "## Pipeline execution graph\n",
    "\n",
    "Let's look at the current execution graph for the current workflow pipeline:"
   ]
  },
  {
   "cell_type": "code",
   "execution_count": null,
   "id": "616a9714",
   "metadata": {},
   "outputs": [],
   "source": [
    "graph_to_image(workflow.pipeline.execution_graph)"
   ]
  },
  {
   "cell_type": "markdown",
   "id": "93a2d50e",
   "metadata": {},
   "source": [
    "# Workflow inputs <a class=\"anchor\" id=\"pipeline_inputs\"></a>\n",
    "\n",
    "Once a workflow has an assembled pipeline, we can set it's inputs. We use the input field\n",
    "names that we got from the result of the `workflow.current_state` call."
   ]
  },
  {
   "cell_type": "code",
   "execution_count": null,
   "id": "d9f29a96",
   "metadata": {},
   "outputs": [],
   "source": [
    "workflow.set_input(\"edges_file\", \"/home/markus/projects/kiara/dev/kiara.examples/examples/pipelines/network_analysis/../../data/journals/JournalEdges1902.csv\")\n",
    "workflow.set_input(\"nodes_file\", \"/home/markus/projects/kiara/dev/kiara.examples/examples/pipelines/network_analysis/../../data/journals/JournalNodes1902.csv\")\n",
    "workflow.set_input(\"source_column_name\", \"Source\")\n",
    "workflow.set_input(\"target_column_name\", \"Target\")\n",
    "workflow.set_input(\"edges_column_map\", None)\n",
    "workflow.set_input(\"id_column_name\", \"Id\")\n",
    "workflow.set_input(\"label_column_name\", \"Label\")\n",
    "workflow.set_input(\"nodes_column_map\", None)\n",
    "\n",
    "\n",
    "# process all workflow steps that can be processed\n",
    "workflow.process_steps()\n",
    "\n",
    "# print the current state, after we set our inputs\n",
    "workflow.current_state"
   ]
  },
  {
   "cell_type": "markdown",
   "id": "760d1655",
   "metadata": {},
   "source": [
    "# Workflow outputs <a class=\"anchor\" id=\"pipeline_outputs\"></a>\n",
    "\n",
    "To print the actual data of the workflows' current outputs, we call the `current_output_values` property of the workflow object:"
   ]
  },
  {
   "cell_type": "code",
   "execution_count": null,
   "id": "679609d8",
   "metadata": {},
   "outputs": [],
   "source": [
    "workflow.current_output_values"
   ]
  },
  {
   "cell_type": "markdown",
   "id": "5a837329",
   "metadata": {},
   "source": [
    "# Workflow snapshot <a class=\"anchor\" id=\"snapshot\"></a>\n",
    "\n",
    "So far, our workflow only exists in memory. If we want to save it so we can have a look at it again at a later stage, we can snapshot the current state, which will save the current structure of the internal pipeline, as well as all inputs that are currently used. In addition, this will register the workflow under the alias we specified on top of this file when creating the `Workflow` object (in our case: `create_network_graph`).\n",
    "\n",
    "If we would not not specify `save=True`, the structure of the pipeline and inputs would still be frozen and kept, but only in memory, and we'd only be able to access it in our current session."
   ]
  },
  {
   "cell_type": "code",
   "execution_count": null,
   "id": "4b434c72",
   "metadata": {},
   "outputs": [],
   "source": [
    "workflow.snapshot(save=True)"
   ]
  },
  {
   "cell_type": "markdown",
   "id": "89568a29",
   "metadata": {},
   "source": [
    "Now, we can access our workflow in other environments, for example from the commandline:"
   ]
  },
  {
   "cell_type": "code",
   "execution_count": null,
   "id": "b084d648",
   "metadata": {},
   "outputs": [],
   "source": [
    "! kiara workflow list"
   ]
  },
  {
   "cell_type": "code",
   "execution_count": null,
   "id": "0529df11",
   "metadata": {},
   "outputs": [],
   "source": [
    "! kiara workflow explain create_network_graph"
   ]
  }
 ],
 "metadata": {
  "jupytext": {
   "cell_markers": "region,endregion",
   "formats": "ipynb,.pct.py:percent,.lgt.py:light,.spx.py:sphinx,md,Rmd,.pandoc.md:pandoc"
  },
  "kernelspec": {
   "display_name": "Python 3",
   "language": "python",
   "name": "python3"
  }
 },
 "nbformat": 4,
 "nbformat_minor": 5
}
